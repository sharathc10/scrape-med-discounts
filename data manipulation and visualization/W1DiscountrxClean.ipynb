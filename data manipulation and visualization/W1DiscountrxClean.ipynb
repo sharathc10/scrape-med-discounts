{
 "cells": [
  {
   "cell_type": "code",
   "execution_count": 228,
   "metadata": {},
   "outputs": [],
   "source": [
    "# This file cleans the scraped from from the second\n",
    "# drug coupon website scraped.  A separate cleaner\n",
    "# is required for each file\n",
    "\n",
    "import pandas as pd\n",
    "df=pd.read_csv('../web scraping/W1Discountrx_Selenium2.csv')\n",
    "df.columns=[\"Drug name\", \"Drug Description\",\"Pharmacies\",\"Price\"]\n",
    "\n",
    "def quantity(x):\n",
    "    x = x.split('•')[0].split()\n",
    "    return x[1]\n",
    "\n",
    "\n",
    "def dosage(x):\n",
    "    x = x.split('•')[1].split()\n",
    "    return x[0]\n",
    "\n",
    "\n",
    "def  form(x):\n",
    "    x = x.split('•')\n",
    "    return x[2]\n",
    "\n",
    "\n",
    "df['Quantity'] = df['Drug Description'].apply(quantity)\n",
    "df['Dosage'] = df['Drug Description'].apply(dosage)\n",
    "df['Form'] = df['Drug Description'].apply(form)\n",
    "df['Pharmacies']=df['Pharmacies'].str.replace(\"[\",\"\").str.replace(\"]\",\"\").str.replace(\"'\",\"\").str.split(\",\")\n",
    "df['Price']=df['Price'].str.replace(\"[\",\"\").str.replace(\"]\",\"\").str.replace(\"'\",\"\").str.replace(\"`\",\"\").str.replace(\"$\",\"\").str.split(\",\")\n",
    "from helper import flatten_df\n",
    "df=flatten_df(df,['Pharmacies','Price'],['Pharmacy','Price'])\n",
    "df.to_csv(\"W1Discountrx_Selenium2_Clean.csv\",index=False)"
   ]
  },
  {
   "cell_type": "code",
   "execution_count": 187,
   "metadata": {},
   "outputs": [],
   "source": [
    "#Test if values in both match before flattening\n",
    "#Some manual checks were done on the data since\n",
    "#I didn't want to run Selenium again with all the\n",
    "#prescriptions\n",
    "import csv \n",
    "with open(\"W1Discountrx_test.csv\" , 'w', encoding = 'utf-8', newline = '') as csv_file:\n",
    "    writer = csv.writer(csv_file)\n",
    "    for val in df['Pharmacies']:\n",
    "        writer.writerow([len(val)])\n",
    "    writer.writerow(['sep'])\n",
    "    for val in df['Price']:\n",
    "        writer.writerow([len(val)])\n",
    "csv_file.close()\n",
    "    "
   ]
  }
 ],
 "metadata": {
  "kernelspec": {
   "display_name": "Python 3",
   "language": "python",
   "name": "python3"
  },
  "language_info": {
   "codemirror_mode": {
    "name": "ipython",
    "version": 3
   },
   "file_extension": ".py",
   "mimetype": "text/x-python",
   "name": "python",
   "nbconvert_exporter": "python",
   "pygments_lexer": "ipython3",
   "version": "3.8.5"
  }
 },
 "nbformat": 4,
 "nbformat_minor": 4
}
