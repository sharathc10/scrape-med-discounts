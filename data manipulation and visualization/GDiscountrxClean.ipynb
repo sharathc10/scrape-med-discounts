{
 "cells": [
  {
   "cell_type": "code",
   "execution_count": 65,
   "metadata": {},
   "outputs": [],
   "source": [
    "# This cleans the drug coupon data from the first website\n",
    "# Separate cleaners are needed for each website\n",
    "# \n",
    "import pandas as pd\n",
    "df=pd.read_csv('../data/GDiscountrx_Selenium.csv', header=None)\n",
    "df.columns=[\"Drug name\", \"Drug type\", \"Drug form\", \"Dosage\", \"Count\",\"Pharmacies\",\"Savings\",\"Price\"]\n",
    "df['Pharmacies']=df['Pharmacies'].str.replace(\"[\",\"\").str.replace(\"]\",\"\").str.replace(\"'\",\"\").str.split(\",\")\n",
    "df['Savings']=df['Savings'].str.replace(\"[\",\"\").str.replace(\"]\",\"\").str.replace(\"'\",\"\").str.split(\",\")\n",
    "df['Price']=df['Price'].str.replace(\"[\",\"\").str.replace(\"]\",\"\").str.replace(\"'\",\"\").str.split(\",\")\n",
    "import numpy as np\n",
    "import csv \n",
    "import re\n",
    "# could not use the helper function for this cleaner because\n",
    "# of specific format of the list data\n",
    "lens_of_lists = df['Pharmacies'].apply(len)\n",
    "origin_rows = range(df.shape[0])\n",
    "destination_rows = np.repeat(origin_rows, lens_of_lists)\n",
    "non_list_cols = (\n",
    "      [idx for idx, col in enumerate(df.columns)\n",
    "       if col != 'Pharmacies' and col!='Savings' and col!='Price']\n",
    "    )\n",
    "expanded_df = df.iloc[destination_rows, non_list_cols].copy()\n",
    "expanded_df['Pharmacy'] = (\n",
    "      [item.strip() for items in df['Pharmacies'] for item in items]\n",
    "      )\n",
    "expanded_df['Price'] = (\n",
    "      [(re.findall(\"(?:[\\$]{1}[,\\d]+.?\\d*)\",item)[0].replace(\"$\",\"\").replace(\",\",\"\")) for items in df['Price'] for item in items]\n",
    "      )\n",
    "expanded_df['Price']=expanded_df['Price'].astype(float)\n",
    "expanded_df.to_csv('GDiscountrxClean.csv',index=False)"
   ]
  },
  {
   "cell_type": "code",
   "execution_count": 64,
   "metadata": {},
   "outputs": [],
   "source": []
  },
  {
   "cell_type": "code",
   "execution_count": 60,
   "metadata": {},
   "outputs": [
    {
     "data": {
      "text/plain": [
       "array(['CVS Pharmacy', 'Costco', 'Giant Eagle Pharmacy', 'Giant Pharmacy',\n",
       "       'Kroger Pharmacy', 'Rite Aid', 'Target (CVS)', 'Walgreens',\n",
       "       'Walmart', 'Weis Pharmacy'], dtype=object)"
      ]
     },
     "execution_count": 60,
     "metadata": {},
     "output_type": "execute_result"
    }
   ],
   "source": [
    "np.unique(expanded_df['Pharmacy'])"
   ]
  },
  {
   "cell_type": "code",
   "execution_count": null,
   "metadata": {},
   "outputs": [],
   "source": []
  }
 ],
 "metadata": {
  "kernelspec": {
   "display_name": "Python 3",
   "language": "python",
   "name": "python3"
  },
  "language_info": {
   "codemirror_mode": {
    "name": "ipython",
    "version": 3
   },
   "file_extension": ".py",
   "mimetype": "text/x-python",
   "name": "python",
   "nbconvert_exporter": "python",
   "pygments_lexer": "ipython3",
   "version": "3.8.5"
  }
 },
 "nbformat": 4,
 "nbformat_minor": 4
}
