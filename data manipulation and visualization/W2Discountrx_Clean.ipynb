{
 "cells": [
  {
   "cell_type": "code",
   "execution_count": 183,
   "metadata": {},
   "outputs": [],
   "source": [
    "# clean the second rx discount coupon data\n",
    "# the data from this website is different from the other two files\n",
    "# so another cleaner is required\n",
    "\n",
    "import pandas as pd\n",
    "\n",
    "df=pd.read_csv('../web scraping/W2Discountrx_Selenium.csv')\n",
    "df=df.reset_index()\n",
    "df = df[ df['drugstores'] != '[]' ]\n",
    "df.dropna(axis=0, how='any')\n",
    "df.columns=['Pharmacies','Price','Drug URL']\n",
    "df['Pharmacies']=df['Pharmacies'].str.replace(\"[\",\"\").str.replace(\"]\",\"\").str.replace(\"'\",\"\")\n",
    "df['Price']=df['Price'].str.replace(\"[\",\"\").str.replace(\"]\",\"\").str.replace(\"'\",\"\").str.replace(\"`\",\"\").str.replace(\"$\",\"\").str.split(\",\")\n",
    "\n",
    "def drugname(x):\n",
    "    x=x.split(\"/\")[-2]\n",
    "    return x.replace(\"-\",\" \").lower().title()\n",
    "\n",
    "df['Drug Name']=df['Drug URL'].apply(drugname)\n",
    "def drugstores(x):\n",
    "    x=[\"Giant Eagle Pharmacy\",\"Rite Aid Pharmacy\",\"CVS Pharmacy\",\"Schiller's Pharmacy\",\"Target\",\"Walgreens\"]\n",
    "    return x\n",
    "    \n",
    "df['Pharmacies']=df['Pharmacies'].apply(drugstores)\n",
    "from helper import flatten_df\n",
    "df=flatten_df(df,['Pharmacies','Price'],['Pharmacy','Price'])\n",
    "df['Price']= df['Price'].astype(float)\n",
    "df.to_csv(\"W2Discountrx_Selenium2_Clean.csv\",index=False)"
   ]
  }
 ],
 "metadata": {
  "kernelspec": {
   "display_name": "Python 3",
   "language": "python",
   "name": "python3"
  },
  "language_info": {
   "codemirror_mode": {
    "name": "ipython",
    "version": 3
   },
   "file_extension": ".py",
   "mimetype": "text/x-python",
   "name": "python",
   "nbconvert_exporter": "python",
   "pygments_lexer": "ipython3",
   "version": "3.8.5"
  }
 },
 "nbformat": 4,
 "nbformat_minor": 4
}
