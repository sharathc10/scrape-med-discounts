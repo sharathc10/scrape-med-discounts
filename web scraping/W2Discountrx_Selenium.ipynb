{
 "cells": [
  {
   "cell_type": "code",
   "execution_count": 13,
   "metadata": {},
   "outputs": [
    {
     "data": {
      "text/plain": [
       "200"
      ]
     },
     "execution_count": 13,
     "metadata": {},
     "output_type": "execute_result"
    }
   ],
   "source": [
    "import pandas as pd\n",
    "df=pd.read_csv('./discount_meds/discount_meds/clincalc_with_dash.csv')\n",
    "drugs = list(df.name)\n",
    "drugs = [drug.upper() for drug in drugs]\n",
    "URL_list_w2rx=['https://werx.org/price/'+drug+\"/15217\" for drug in drugs]\n",
    "len(URL_list_w2rx)"
   ]
  },
  {
   "cell_type": "code",
   "execution_count": 14,
   "metadata": {},
   "outputs": [],
   "source": [
    "# Import necessary modules\n",
    "from selenium import webdriver\n",
    "import time\n",
    "import re\n",
    "import time \n",
    "import csv \n",
    "\n",
    "chrome_options = webdriver.ChromeOptions(); \n",
    "chrome_options.add_experimental_option(\"excludeSwitches\", ['enable-automation']);\n",
    "driver = webdriver.Chrome(options=chrome_options); \n",
    "URL=\"\"\n",
    "with open(\"W2Discountrx_Selenium.csv\" , 'w', encoding = 'utf-8', newline = '') as csv_file:\n",
    "    writer = csv.writer(csv_file)\n",
    "    writer.writerow(['drugstores', 'price']) \n",
    "    for URL in URL_list_w2rx:\n",
    "        driver.get(URL)\n",
    "        time.sleep(5)\n",
    "        pages_dict={}\n",
    "        try:\n",
    "            pages_dict['drugstores'] = [l.text for l in driver.find_elements_by_xpath('.//div[@class=\"PharmacyDetails\"]/div')]\n",
    "            pages_dict['price'] = [l.text for l in driver.find_elements_by_xpath('.//div[@data-bind=\"text: DisplayCouponPrice\"]')]\n",
    "            pages_dict['drug URL']=URL\n",
    "            writer.writerow(pages_dict.values())\n",
    "        except:\n",
    "            pages_dict['drug URL']=URL\n",
    "            writer.writerow(pages_dict.values())\n",
    "                \n",
    "csv_file.close()\n",
    "driver.close()\n"
   ]
  }
 ],
 "metadata": {
  "kernelspec": {
   "display_name": "Python 3",
   "language": "python",
   "name": "python3"
  },
  "language_info": {
   "codemirror_mode": {
    "name": "ipython",
    "version": 3
   },
   "file_extension": ".py",
   "mimetype": "text/x-python",
   "name": "python",
   "nbconvert_exporter": "python",
   "pygments_lexer": "ipython3",
   "version": "3.8.5"
  }
 },
 "nbformat": 4,
 "nbformat_minor": 2
}
