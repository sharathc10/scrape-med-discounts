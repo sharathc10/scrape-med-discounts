{
 "cells": [
  {
   "cell_type": "code",
   "execution_count": 2,
   "metadata": {},
   "outputs": [],
   "source": [
    "import pandas as pd\n",
    "df=pd.read_csv('./discount_meds/discount_meds/clincalc.csv')\n"
   ]
  },
  {
   "cell_type": "code",
   "execution_count": 3,
   "metadata": {},
   "outputs": [],
   "source": [
    "drugs = list(df.name)\n",
    "drugs = [drug.lower() for drug in drugs][0:100]"
   ]
  },
  {
   "cell_type": "code",
   "execution_count": 4,
   "metadata": {},
   "outputs": [
    {
     "data": {
      "text/plain": [
       "['atorvastatin',\n",
       " 'levothyroxine',\n",
       " 'lisinopril',\n",
       " 'metformin hydrochloride',\n",
       " 'amlodipine',\n",
       " 'metoprolol',\n",
       " 'albuterol',\n",
       " 'omeprazole',\n",
       " 'losartan potassium',\n",
       " 'simvastatin',\n",
       " 'gabapentin',\n",
       " 'acetaminophen; hydrocodone bitartrate',\n",
       " 'hydrochlorothiazide',\n",
       " 'sertraline hydrochloride',\n",
       " 'montelukast',\n",
       " 'fluticasone',\n",
       " 'amoxicillin',\n",
       " 'furosemide',\n",
       " 'pantoprazole sodium',\n",
       " 'acetaminophen',\n",
       " 'prednisone',\n",
       " 'escitalopram oxalate',\n",
       " 'fluoxetine hydrochloride',\n",
       " 'dextroamphetamine; dextroamphetamine saccharate; amphetamine; amphetamine aspartate',\n",
       " 'tramadol hydrochloride',\n",
       " 'insulin glargine',\n",
       " 'bupropion',\n",
       " 'ibuprofen',\n",
       " 'rosuvastatin',\n",
       " 'pravastatin sodium',\n",
       " 'trazodone hydrochloride',\n",
       " 'tamsulosin hydrochloride',\n",
       " 'carvedilol',\n",
       " 'meloxicam',\n",
       " 'citalopram',\n",
       " 'duloxetine',\n",
       " 'alprazolam',\n",
       " 'potassium',\n",
       " 'clopidogrel bisulfate',\n",
       " 'aspirin',\n",
       " 'ranitidine',\n",
       " 'atenolol',\n",
       " 'cyclobenzaprine',\n",
       " 'glipizide',\n",
       " 'methylphenidate',\n",
       " 'azithromycin',\n",
       " 'clonazepam',\n",
       " 'oxycodone',\n",
       " 'allopurinol',\n",
       " 'venlafaxine',\n",
       " 'hydrochlorothiazide; lisinopril',\n",
       " 'warfarin',\n",
       " 'propranolol hydrochloride',\n",
       " 'hydrochlorothiazide; losartan potassium',\n",
       " 'cetirizine',\n",
       " 'estradiol',\n",
       " 'ethinyl estradiol; norethindrone',\n",
       " 'lorazepam',\n",
       " 'quetiapine fumarate',\n",
       " 'zolpidem tartrate',\n",
       " 'ergocalciferol',\n",
       " 'budesonide; formoterol',\n",
       " 'spironolactone',\n",
       " 'ondansetron',\n",
       " 'insulin aspart',\n",
       " 'apixaban',\n",
       " 'naproxen',\n",
       " 'lamotrigine',\n",
       " 'fluticasone propionate; salmeterol xinafoate',\n",
       " 'pregabalin',\n",
       " 'glimepiride',\n",
       " 'diclofenac',\n",
       " 'fenofibrate',\n",
       " 'paroxetine',\n",
       " 'clonidine',\n",
       " 'loratadine',\n",
       " 'diltiazem hydrochloride',\n",
       " 'hydroxyzine',\n",
       " 'amitriptyline',\n",
       " 'doxycycline',\n",
       " 'ethinyl estradiol; norgestimate',\n",
       " 'lisdexamfetamine dimesylate',\n",
       " 'sitagliptin phosphate',\n",
       " 'latanoprost',\n",
       " 'cephalexin',\n",
       " 'tizanidine',\n",
       " 'finasteride',\n",
       " 'lovastatin',\n",
       " 'topiramate',\n",
       " 'insulin lispro',\n",
       " 'sulfamethoxazole; trimethoprim',\n",
       " 'buspirone hydrochloride',\n",
       " 'oseltamivir phosphate',\n",
       " 'ferrous sulfate',\n",
       " 'amoxicillin; clavulanate potassium',\n",
       " 'valsartan',\n",
       " 'levetiracetam',\n",
       " 'hydralazine hydrochloride',\n",
       " 'mirtazapine',\n",
       " 'rivaroxaban']"
      ]
     },
     "execution_count": 4,
     "metadata": {},
     "output_type": "execute_result"
    }
   ],
   "source": [
    "len(drugs)\n",
    "drugs"
   ]
  },
  {
   "cell_type": "code",
   "execution_count": 95,
   "metadata": {},
   "outputs": [],
   "source": [
    "# List of URLs of interest\n",
    "URL_list_goodrx=['https://www.goodrx.com/'+drug for drug in drugs]"
   ]
  },
  {
   "cell_type": "code",
   "execution_count": 32,
   "metadata": {},
   "outputs": [
    {
     "data": {
      "text/plain": [
       "['https://www.goodrx.com/aripiprazole',\n",
       " 'https://www.goodrx.com/oxybutynin',\n",
       " 'https://www.goodrx.com/esomeprazole',\n",
       " 'https://www.goodrx.com/alendronate sodium',\n",
       " 'https://www.goodrx.com/folic acid']"
      ]
     },
     "execution_count": 32,
     "metadata": {},
     "output_type": "execute_result"
    }
   ],
   "source": [
    "# Length of list of drugs\n",
    "URL_list_goodrx2[0:5]"
   ]
  },
  {
   "cell_type": "code",
   "execution_count": 96,
   "metadata": {},
   "outputs": [
    {
     "name": "stdout",
     "output_type": "stream",
     "text": [
      "missing data forhttps://www.goodrx.com/metformin hydrochloride; sitagliptin phosphate\n",
      "missing data forhttps://www.goodrx.com/dexmethylphenidate hydrochloride\n",
      "missing data forhttps://www.goodrx.com/calcium; cholecalciferol\n",
      "missing data forhttps://www.goodrx.com/ethinyl estradiol; etonogestrel\n",
      "missing data forhttps://www.goodrx.com/drospirenone; ethinyl estradiol\n",
      "missing data forhttps://www.goodrx.com/phentermine\n",
      "missing data forhttps://www.goodrx.com/carbidopa; levodopa\n",
      "missing data forhttps://www.goodrx.com/desogestrel; ethinyl estradiol\n",
      "missing data forhttps://www.goodrx.com/linagliptin\n",
      "missing data forhttps://www.goodrx.com/adalimumab\n",
      "missing data forhttps://www.goodrx.com/amlodipine besylate; benazepril hydrochloride\n",
      "missing data forhttps://www.goodrx.com/hydrochlorothiazide; valsartan\n",
      "missing data forhttps://www.goodrx.com/acetaminophen; butalbital\n",
      "missing data forhttps://www.goodrx.com/insulin degludec\n",
      "missing data forhttps://www.goodrx.com/memantine hydrochloride\n",
      "missing data forhttps://www.goodrx.com/canagliflozin\n",
      "missing data forhttps://www.goodrx.com/nebivolol hydrochloride\n",
      "missing data forhttps://www.goodrx.com/magnesium\n"
     ]
    }
   ],
   "source": [
    "# Import necessary modules\n",
    "from selenium import webdriver\n",
    "from selenium.webdriver.common.by import By\n",
    "from selenium.webdriver.support.ui import WebDriverWait\n",
    "from selenium.webdriver.support import expected_conditions as EC\n",
    "import csv\n",
    "import re\n",
    "import time\n",
    "\n",
    "# Selenium\n",
    "# Change your file path to where your chromedriver.exe is \n",
    "chrome_options = webdriver.ChromeOptions(); \n",
    "chrome_options.add_experimental_option(\"excludeSwitches\", ['enable-automation']);\n",
    "driver = webdriver.Chrome(options=chrome_options);  \n",
    "\n",
    "# Create an csv file with column names\n",
    "with open(\"GDiscountrx_Selenium.csv\" , 'w', encoding = 'utf-8', newline = '') as csv_file:\n",
    "    writer = csv.writer(csv_file)\n",
    "    \n",
    "    # Will Run Selenium for each URL page \n",
    "    for URL in URL_list_goodrx:\n",
    "        driver.get(URL)\n",
    "        time.sleep(5)\n",
    "        \n",
    "        pages_dict={}\n",
    "        # Create xpath variable for individual drug page\n",
    "        try :\n",
    "            pages_dict['med_name'] = driver.find_element_by_xpath('//h1[@id=\"uat-drug-title\"]/a').text\n",
    "            pages_dict['med_type'] = driver.find_element_by_xpath('//div[@class=\"label-1Z3f2 label_with_props_padding-3S2kf\"]').text\n",
    "            pages_dict['med_form'] = driver.find_element_by_xpath('//span[@class=\"labelText-34ve5 labelText_form-2cBDc labelText-34ve5\"]').text\n",
    "            pages_dict['med_dosage'] = driver.find_element_by_xpath('.//span[@class=\"labelText-34ve5 labelText_dosage-3Fpsw\"]').text\n",
    "            pages_dict['num_of_tablets'] = driver.find_element_by_xpath('//span[@class=\"labelText-34ve5\"]').text\n",
    "            pages_dict['price_table_drugstores'] = [l.text for l in driver.find_elements_by_xpath('//span[@class=\"goldAddUnderline-1CwEN\"]')]\n",
    "            pages_dict['price_table_savings']  = [l.text for l in driver.find_elements_by_xpath('//span[@class=\"savingsPercentage-3xoFU\"]')]\n",
    "            pages_dict['price_value'] = [l.text for l in driver.find_elements_by_xpath('//div[@class=\"display-2zakM\"]')]\n",
    "            writer.writerow(pages_dict.values())  \n",
    "        except:\n",
    "            print(\"missing data for\"+URL)\n",
    "                        \n",
    "# Close csv and driver\n",
    "csv_file.close()\n",
    "driver.close() \n",
    "\n",
    "\n"
   ]
  },
  {
   "cell_type": "code",
   "execution_count": null,
   "metadata": {},
   "outputs": [],
   "source": []
  }
 ],
 "metadata": {
  "kernelspec": {
   "display_name": "Python 3",
   "language": "python",
   "name": "python3"
  },
  "language_info": {
   "codemirror_mode": {
    "name": "ipython",
    "version": 3
   },
   "file_extension": ".py",
   "mimetype": "text/x-python",
   "name": "python",
   "nbconvert_exporter": "python",
   "pygments_lexer": "ipython3",
   "version": "3.8.5"
  }
 },
 "nbformat": 4,
 "nbformat_minor": 2
}
