{
 "cells": [
  {
   "cell_type": "code",
   "execution_count": 52,
   "metadata": {},
   "outputs": [
    {
     "data": {
      "text/plain": [
       "200"
      ]
     },
     "execution_count": 52,
     "metadata": {},
     "output_type": "execute_result"
    }
   ],
   "source": [
    "import pandas as pd\n",
    "df=pd.read_csv('./discount_meds/discount_meds/clincalc.csv')\n",
    "drugs = list(df.name)\n",
    "drugs = [drug.lower() for drug in drugs]\n",
    "URL_list_w1rx=['https://www.wellrx.com/prescriptions/'+drug+\"/15217?freshSearch=true\" for drug in drugs]\n",
    "len(URL_list_w1rx)"
   ]
  },
  {
   "cell_type": "code",
   "execution_count": 53,
   "metadata": {},
   "outputs": [
    {
     "name": "stdout",
     "output_type": "stream",
     "text": [
      "could not find data forhttps://www.wellrx.com/prescriptions/atorvastatin/15217?freshSearch=true\n",
      "could not find data forhttps://www.wellrx.com/prescriptions/metformin hydrochloride/15217?freshSearch=true\n",
      "could not find data forhttps://www.wellrx.com/prescriptions/amlodipine/15217?freshSearch=true\n",
      "could not find data forhttps://www.wellrx.com/prescriptions/metoprolol/15217?freshSearch=true\n",
      "could not find data forhttps://www.wellrx.com/prescriptions/albuterol/15217?freshSearch=true\n",
      "could not find data forhttps://www.wellrx.com/prescriptions/acetaminophen; hydrocodone bitartrate/15217?freshSearch=true\n",
      "could not find data forhttps://www.wellrx.com/prescriptions/sertraline hydrochloride/15217?freshSearch=true\n",
      "could not find data forhttps://www.wellrx.com/prescriptions/montelukast/15217?freshSearch=true\n",
      "could not find data forhttps://www.wellrx.com/prescriptions/fluticasone/15217?freshSearch=true\n",
      "could not find data forhttps://www.wellrx.com/prescriptions/fluoxetine hydrochloride/15217?freshSearch=true\n",
      "could not find data forhttps://www.wellrx.com/prescriptions/dextroamphetamine; dextroamphetamine saccharate; amphetamine; amphetamine aspartate/15217?freshSearch=true\n",
      "could not find data forhttps://www.wellrx.com/prescriptions/tramadol hydrochloride/15217?freshSearch=true\n",
      "could not find data forhttps://www.wellrx.com/prescriptions/insulin glargine/15217?freshSearch=true\n",
      "could not find data forhttps://www.wellrx.com/prescriptions/bupropion/15217?freshSearch=true\n",
      "could not find data forhttps://www.wellrx.com/prescriptions/rosuvastatin/15217?freshSearch=true\n",
      "could not find data forhttps://www.wellrx.com/prescriptions/trazodone hydrochloride/15217?freshSearch=true\n",
      "could not find data forhttps://www.wellrx.com/prescriptions/tamsulosin hydrochloride/15217?freshSearch=true\n",
      "could not find data forhttps://www.wellrx.com/prescriptions/citalopram/15217?freshSearch=true\n",
      "could not find data forhttps://www.wellrx.com/prescriptions/duloxetine/15217?freshSearch=true\n",
      "could not find data forhttps://www.wellrx.com/prescriptions/clopidogrel bisulfate/15217?freshSearch=true\n",
      "could not find data forhttps://www.wellrx.com/prescriptions/ranitidine/15217?freshSearch=true\n",
      "could not find data forhttps://www.wellrx.com/prescriptions/cyclobenzaprine/15217?freshSearch=true\n",
      "could not find data forhttps://www.wellrx.com/prescriptions/methylphenidate/15217?freshSearch=true\n",
      "could not find data forhttps://www.wellrx.com/prescriptions/oxycodone/15217?freshSearch=true\n",
      "could not find data forhttps://www.wellrx.com/prescriptions/venlafaxine/15217?freshSearch=true\n",
      "could not find data forhttps://www.wellrx.com/prescriptions/hydrochlorothiazide; lisinopril/15217?freshSearch=true\n",
      "could not find data forhttps://www.wellrx.com/prescriptions/warfarin/15217?freshSearch=true\n",
      "could not find data forhttps://www.wellrx.com/prescriptions/propranolol hydrochloride/15217?freshSearch=true\n",
      "could not find data forhttps://www.wellrx.com/prescriptions/hydrochlorothiazide; losartan potassium/15217?freshSearch=true\n",
      "could not find data forhttps://www.wellrx.com/prescriptions/cetirizine/15217?freshSearch=true\n",
      "could not find data forhttps://www.wellrx.com/prescriptions/ethinyl estradiol; norethindrone/15217?freshSearch=true\n",
      "could not find data forhttps://www.wellrx.com/prescriptions/budesonide; formoterol/15217?freshSearch=true\n",
      "could not find data forhttps://www.wellrx.com/prescriptions/ondansetron/15217?freshSearch=true\n",
      "could not find data forhttps://www.wellrx.com/prescriptions/apixaban/15217?freshSearch=true\n",
      "could not find data forhttps://www.wellrx.com/prescriptions/fluticasone propionate; salmeterol xinafoate/15217?freshSearch=true\n",
      "could not find data forhttps://www.wellrx.com/prescriptions/paroxetine/15217?freshSearch=true\n",
      "could not find data forhttps://www.wellrx.com/prescriptions/diltiazem hydrochloride/15217?freshSearch=true\n",
      "could not find data forhttps://www.wellrx.com/prescriptions/hydroxyzine/15217?freshSearch=true\n",
      "could not find data forhttps://www.wellrx.com/prescriptions/amitriptyline/15217?freshSearch=true\n",
      "could not find data forhttps://www.wellrx.com/prescriptions/doxycycline/15217?freshSearch=true\n",
      "could not find data forhttps://www.wellrx.com/prescriptions/ethinyl estradiol; norgestimate/15217?freshSearch=true\n",
      "could not find data forhttps://www.wellrx.com/prescriptions/lisdexamfetamine dimesylate/15217?freshSearch=true\n",
      "could not find data forhttps://www.wellrx.com/prescriptions/sitagliptin phosphate/15217?freshSearch=true\n",
      "could not find data forhttps://www.wellrx.com/prescriptions/tizanidine/15217?freshSearch=true\n",
      "could not find data forhttps://www.wellrx.com/prescriptions/sulfamethoxazole; trimethoprim/15217?freshSearch=true\n",
      "could not find data forhttps://www.wellrx.com/prescriptions/buspirone hydrochloride/15217?freshSearch=true\n",
      "could not find data forhttps://www.wellrx.com/prescriptions/amoxicillin; clavulanate potassium/15217?freshSearch=true\n",
      "could not find data forhttps://www.wellrx.com/prescriptions/hydralazine hydrochloride/15217?freshSearch=true\n",
      "could not find data forhttps://www.wellrx.com/prescriptions/rivaroxaban/15217?freshSearch=true\n",
      "could not find data forhttps://www.wellrx.com/prescriptions/oxybutynin/15217?freshSearch=true\n",
      "could not find data forhttps://www.wellrx.com/prescriptions/esomeprazole/15217?freshSearch=true\n",
      "could not find data forhttps://www.wellrx.com/prescriptions/triamcinolone/15217?freshSearch=true\n",
      "could not find data forhttps://www.wellrx.com/prescriptions/tiotropium/15217?freshSearch=true\n",
      "could not find data forhttps://www.wellrx.com/prescriptions/insulin detemir/15217?freshSearch=true\n",
      "could not find data forhttps://www.wellrx.com/prescriptions/ropinirole hydrochloride/15217?freshSearch=true\n",
      "could not find data forhttps://www.wellrx.com/prescriptions/hydrochlorothiazide; triamterene/15217?freshSearch=true\n",
      "could not find data forhttps://www.wellrx.com/prescriptions/benazepril hydrochloride/15217?freshSearch=true\n",
      "could not find data forhttps://www.wellrx.com/prescriptions/guanfacine/15217?freshSearch=true\n",
      "could not find data forhttps://www.wellrx.com/prescriptions/donepezil hydrochloride/15217?freshSearch=true\n",
      "could not find data forhttps://www.wellrx.com/prescriptions/hydroxychloroquine/15217?freshSearch=true\n",
      "could not find data forhttps://www.wellrx.com/prescriptions/clindamycin/15217?freshSearch=true\n",
      "could not find data forhttps://www.wellrx.com/prescriptions/morphine/15217?freshSearch=true\n",
      "could not find data forhttps://www.wellrx.com/prescriptions/ethinyl estradiol; levonorgestrel/15217?freshSearch=true\n",
      "could not find data forhttps://www.wellrx.com/prescriptions/pioglitazone/15217?freshSearch=true\n",
      "could not find data forhttps://www.wellrx.com/prescriptions/cyanocobalamin/15217?freshSearch=true\n",
      "could not find data forhttps://www.wellrx.com/prescriptions/meclizine hydrochloride/15217?freshSearch=true\n",
      "could not find data forhttps://www.wellrx.com/prescriptions/albuterol sulfate; ipratropium bromide/15217?freshSearch=true\n",
      "could not find data forhttps://www.wellrx.com/prescriptions/docusate/15217?freshSearch=true\n",
      "could not find data forhttps://www.wellrx.com/prescriptions/liraglutide/15217?freshSearch=true\n",
      "could not find data forhttps://www.wellrx.com/prescriptions/verapamil hydrochloride/15217?freshSearch=true\n",
      "could not find data forhttps://www.wellrx.com/prescriptions/nortriptyline hydrochloride/15217?freshSearch=true\n",
      "could not find data forhttps://www.wellrx.com/prescriptions/timolol/15217?freshSearch=true\n",
      "could not find data forhttps://www.wellrx.com/prescriptions/dulaglutide/15217?freshSearch=true\n",
      "could not find data forhttps://www.wellrx.com/prescriptions/promethazine hydrochloride/15217?freshSearch=true\n",
      "could not find data forhttps://www.wellrx.com/prescriptions/metformin hydrochloride; sitagliptin phosphate/15217?freshSearch=true\n",
      "could not find data forhttps://www.wellrx.com/prescriptions/dexmethylphenidate hydrochloride/15217?freshSearch=true\n",
      "could not find data forhttps://www.wellrx.com/prescriptions/atomoxetine hydrochloride/15217?freshSearch=true\n",
      "could not find data forhttps://www.wellrx.com/prescriptions/calcium; cholecalciferol/15217?freshSearch=true\n",
      "could not find data forhttps://www.wellrx.com/prescriptions/ethinyl estradiol; etonogestrel/15217?freshSearch=true\n"
     ]
    },
    {
     "name": "stdout",
     "output_type": "stream",
     "text": [
      "could not find data forhttps://www.wellrx.com/prescriptions/drospirenone; ethinyl estradiol/15217?freshSearch=true\n",
      "could not find data forhttps://www.wellrx.com/prescriptions/phentermine/15217?freshSearch=true\n",
      "could not find data forhttps://www.wellrx.com/prescriptions/carbidopa; levodopa/15217?freshSearch=true\n",
      "could not find data forhttps://www.wellrx.com/prescriptions/omega-3-acid ethyl esters/15217?freshSearch=true\n",
      "could not find data forhttps://www.wellrx.com/prescriptions/desogestrel; ethinyl estradiol/15217?freshSearch=true\n",
      "could not find data forhttps://www.wellrx.com/prescriptions/rizatriptan benzoate/15217?freshSearch=true\n",
      "could not find data forhttps://www.wellrx.com/prescriptions/linagliptin/15217?freshSearch=true\n",
      "could not find data forhttps://www.wellrx.com/prescriptions/adalimumab/15217?freshSearch=true\n",
      "could not find data forhttps://www.wellrx.com/prescriptions/amlodipine besylate; benazepril hydrochloride/15217?freshSearch=true\n",
      "could not find data forhttps://www.wellrx.com/prescriptions/hydrochlorothiazide; valsartan/15217?freshSearch=true\n",
      "could not find data forhttps://www.wellrx.com/prescriptions/acetaminophen; butalbital/15217?freshSearch=true\n",
      "could not find data forhttps://www.wellrx.com/prescriptions/insulin degludec/15217?freshSearch=true\n",
      "could not find data forhttps://www.wellrx.com/prescriptions/amiodarone hydrochloride/15217?freshSearch=true\n",
      "could not find data forhttps://www.wellrx.com/prescriptions/memantine hydrochloride/15217?freshSearch=true\n",
      "could not find data forhttps://www.wellrx.com/prescriptions/canagliflozin/15217?freshSearch=true\n",
      "could not find data forhttps://www.wellrx.com/prescriptions/dicyclomine hydrochloride/15217?freshSearch=true\n",
      "could not find data forhttps://www.wellrx.com/prescriptions/nebivolol hydrochloride/15217?freshSearch=true\n",
      "could not find data forhttps://www.wellrx.com/prescriptions/terazosin/15217?freshSearch=true\n"
     ]
    }
   ],
   "source": [
    "# Import necessary modules\n",
    "from selenium import webdriver\n",
    "import time\n",
    "import re\n",
    "import time \n",
    "import csv \n",
    "\n",
    "chrome_options = webdriver.ChromeOptions(); \n",
    "chrome_options.add_experimental_option(\"excludeSwitches\", ['enable-automation']);\n",
    "driver = webdriver.Chrome(options=chrome_options); \n",
    "\n",
    "with open(\"W1Discountrx_Selenium.csv\" , 'w', encoding = 'utf-8', newline = '') as csv_file:\n",
    "    writer = csv.writer(csv_file)\n",
    "    writer.writerow(['drug description', 'drugstores', 'price']) \n",
    "    for URL in URL_list_w1rx:\n",
    "        driver.get(URL)\n",
    "        time.sleep(5)\n",
    "        pages_dict={}\n",
    "        try:\n",
    "            pages_dict['drug description'] = driver.find_element_by_xpath('//li[@class=\"qty\"]').text\n",
    "            pages_dict['drugstores'] = [l.text for l in driver.find_elements_by_xpath('.//p[@id=\"multipharm-loc-key\"]/a')]\n",
    "            pages_dict['price_drugstores'] = [l.text for l in driver.find_elements_by_xpath('.//span[@class=\"price price-large\"]')]\n",
    "            writer.writerow(pages_dict.values())\n",
    "        except:\n",
    "            print(\"could not find data for\"+URL)\n",
    "                \n",
    "csv_file.close()\n",
    "driver.close()\n"
   ]
  }
 ],
 "metadata": {
  "kernelspec": {
   "display_name": "Python 3",
   "language": "python",
   "name": "python3"
  },
  "language_info": {
   "codemirror_mode": {
    "name": "ipython",
    "version": 3
   },
   "file_extension": ".py",
   "mimetype": "text/x-python",
   "name": "python",
   "nbconvert_exporter": "python",
   "pygments_lexer": "ipython3",
   "version": "3.8.5"
  }
 },
 "nbformat": 4,
 "nbformat_minor": 2
}
